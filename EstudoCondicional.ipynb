{
  "nbformat": 4,
  "nbformat_minor": 0,
  "metadata": {
    "colab": {
      "provenance": [],
      "authorship_tag": "ABX9TyNNxigOzPfgiRP+7pLlZXOX",
      "include_colab_link": true
    },
    "kernelspec": {
      "name": "python3",
      "display_name": "Python 3"
    },
    "language_info": {
      "name": "python"
    }
  },
  "cells": [
    {
      "cell_type": "markdown",
      "metadata": {
        "id": "view-in-github",
        "colab_type": "text"
      },
      "source": [
        "<a href=\"https://colab.research.google.com/github/Dumasjr/python/blob/master/EstudoCondicional.ipynb\" target=\"_parent\"><img src=\"https://colab.research.google.com/assets/colab-badge.svg\" alt=\"Open In Colab\"/></a>"
      ]
    },
    {
      "cell_type": "code",
      "execution_count": 16,
      "metadata": {
        "colab": {
          "base_uri": "https://localhost:8080/"
        },
        "id": "IdvU8TX_PywU",
        "outputId": "df9a9e5e-1b1a-4b77-d928-c11f61989c98"
      },
      "outputs": [
        {
          "output_type": "stream",
          "name": "stdout",
          "text": [
            "5\n"
          ]
        }
      ],
      "source": [
        "idade = 5\n",
        "print(idade)"
      ]
    },
    {
      "cell_type": "code",
      "source": [
        "q_seguranca = 5\n",
        "s_seguranca = 3000\n",
        "\n",
        "q_docente = 16\n",
        "s_docente = 6000\n",
        "\n",
        "q_diretoria = 1\n",
        "s_diretoria = 12500\n",
        "\n",
        "total_empregados = q_seguranca + q_docente + q_diretoria\n",
        "diferenca_salario = s_diretoria - s_seguranca\n",
        "\n",
        "media = (q_seguranca*s_seguranca + q_docente*s_docente + q_diretoria*s_diretoria) / (total_empregados)\n",
        "\n",
        "operador = 2\n",
        "potencia = 3\n",
        "resultado = operador ** potencia\n",
        "\n",
        "print(total_empregados)\n",
        "print(diferenca_salario)\n",
        "print(media)\n",
        "\n",
        "print(resultado)\n",
        "\n",
        "S1= 'Alura'\n",
        "S2 = \"Alura Empresa\"\n",
        "\n",
        "texto = '  Geovana Alessandra dias Sanyos '\n",
        "texto.replace('y','t')\n",
        "texto.upper()\n",
        "texto.lower()\n",
        "\n",
        "chr(79) + chr(108) + chr(225)\n",
        "\n",
        "texto = texto.strip().replace('y','t').upper()\n",
        "print(texto.upper())\n",
        "print(texto.lower())\n",
        "\n",
        "\n",
        "print(type(S1),type(S2))\n",
        "print(chr(79) + chr(108) + chr(225))\n",
        "\n",
        "\n",
        "\n",
        "\n"
      ],
      "metadata": {
        "colab": {
          "base_uri": "https://localhost:8080/"
        },
        "id": "8gB2dS4XP3uq",
        "outputId": "62a84841-aa77-45ef-b6c6-2366c763ef05"
      },
      "execution_count": 30,
      "outputs": [
        {
          "output_type": "stream",
          "name": "stdout",
          "text": [
            "22\n",
            "9500\n",
            "5613.636363636364\n",
            "8\n",
            "GEOVANA ALESSANDRA DIAS SANTOS\n",
            "geovana alessandra dias santos\n",
            "<class 'str'> <class 'str'>\n",
            "Olá\n"
          ]
        }
      ]
    },
    {
      "cell_type": "code",
      "source": [
        "nome = input('Entre com seu nome:  ')\n",
        "print(nome)"
      ],
      "metadata": {
        "colab": {
          "base_uri": "https://localhost:8080/"
        },
        "id": "62OTpLO9lvl4",
        "outputId": "8a983ae0-f1da-4df8-ee25-d8401c323744"
      },
      "execution_count": 31,
      "outputs": [
        {
          "name": "stdout",
          "output_type": "stream",
          "text": [
            "Entre com seu nomeAlexandre\n"
          ]
        }
      ]
    },
    {
      "cell_type": "markdown",
      "source": [],
      "metadata": {
        "id": "22i7pawhl7Bm"
      }
    },
    {
      "cell_type": "code",
      "source": [
        "ano_entrada = int(input('Escreva o ano de ingresso do(a) estudante:  '))\n",
        "\n",
        "print(ano_entrada)\n",
        "type(ano_entrada)"
      ],
      "metadata": {
        "colab": {
          "base_uri": "https://localhost:8080/"
        },
        "id": "BFze5NsAmdG_",
        "outputId": "c7d3cdbf-5887-4b4b-b46c-2b7a256d7f93"
      },
      "execution_count": 34,
      "outputs": [
        {
          "output_type": "stream",
          "name": "stdout",
          "text": [
            "Escreva o ano de ingresso do(a) estudante:  024\n",
            "24\n"
          ]
        },
        {
          "output_type": "execute_result",
          "data": {
            "text/plain": [
              "int"
            ]
          },
          "metadata": {},
          "execution_count": 34
        }
      ]
    },
    {
      "cell_type": "code",
      "source": [
        "ano_entrada = int(input('Escreva o ano de ingresso do(a) estudante:  '))\n",
        "nota_entrada = float(input('Digite a nota do teste de ingresso: '))\n",
        "print(f'Ano de entrada {ano_entrada} - nota do teste de ingresso {nota_entrada}')"
      ],
      "metadata": {
        "colab": {
          "base_uri": "https://localhost:8080/"
        },
        "id": "0i60h1xenOdj",
        "outputId": "0361868b-a924-42ba-9a17-05f48c0a3a3c"
      },
      "execution_count": 36,
      "outputs": [
        {
          "output_type": "stream",
          "name": "stdout",
          "text": [
            "Escreva o ano de ingresso do(a) estudante:  2024\n",
            "Digite a nota do teste de ingresso: 10\n",
            "Ano de entrada 2024 - nota do teste de ingresso 10.0\n"
          ]
        }
      ]
    },
    {
      "cell_type": "code",
      "source": [
        "nome_aluno = 'Fabricio Daniel'\n",
        "\n",
        "print('Nome do aluno: %s' %(nome_aluno))"
      ],
      "metadata": {
        "colab": {
          "base_uri": "https://localhost:8080/"
        },
        "id": "fTzK5905oCPc",
        "outputId": "e92d4728-991b-4db9-ed0d-3f35d5a8a197"
      },
      "execution_count": 38,
      "outputs": [
        {
          "output_type": "stream",
          "name": "stdout",
          "text": [
            "Nome do aluno: Fabricio Daniel\n"
          ]
        }
      ]
    },
    {
      "cell_type": "code",
      "source": [
        "nota= 7\n",
        "\n",
        "if nota < 6:\n",
        "  print('aprovado')\n",
        "else:\n",
        "  print('não atndeu a condição')"
      ],
      "metadata": {
        "colab": {
          "base_uri": "https://localhost:8080/"
        },
        "id": "FSIqZoadITLb",
        "outputId": "a3854733-647a-487b-cd0b-5d9837e124ea"
      },
      "execution_count": 4,
      "outputs": [
        {
          "output_type": "stream",
          "name": "stdout",
          "text": [
            "não atndeu a condição\n"
          ]
        }
      ]
    },
    {
      "cell_type": "code",
      "source": [
        "nomeAluno = input('Entre com nome completo do aluno: ')\n",
        "idadeAluno = int(input('entre com a idade do aluno:'))\n",
        "\n",
        "if idadeAluno >=18:\n",
        "  print('Aluno maior de idade')\n",
        "else:\n",
        "  print('Aluno menor de idade')\n"
      ],
      "metadata": {
        "colab": {
          "base_uri": "https://localhost:8080/"
        },
        "id": "9_Y_HgtTJtuM",
        "outputId": "f104b429-d08e-4c3f-b361-c8b51d89a31c"
      },
      "execution_count": 7,
      "outputs": [
        {
          "output_type": "stream",
          "name": "stdout",
          "text": [
            "Entre com nome completo do aluno: Alexandre Dumas    \n",
            "entre com a idade do aluno:16\n",
            "Aluno menor de idade\n"
          ]
        }
      ]
    },
    {
      "cell_type": "code",
      "source": [
        "livro_1 = input('Digite o título do 1° livro: ')\n",
        "livro_2 = input('Digite o título do 2° livro: ')\n",
        "\n",
        "if livro_1 != livro_2:\n",
        "  print('Os livros têm títulos diferentes')\n",
        "else:\n",
        "  print('Os livros têm títulos iguais')"
      ],
      "metadata": {
        "colab": {
          "base_uri": "https://localhost:8080/"
        },
        "id": "H96voc6XK8vp",
        "outputId": "580fab25-f9a8-49fe-c93c-d94fed243954"
      },
      "execution_count": 10,
      "outputs": [
        {
          "output_type": "stream",
          "name": "stdout",
          "text": [
            "Digite o título do 1° livro: teste\n",
            "Digite o título do 2° livro: teste\n",
            "Os livros têm títulos iguais\n"
          ]
        }
      ]
    },
    {
      "cell_type": "code",
      "source": [
        "nota = int(input('Entre com a nota do Aluno:' ))\n",
        "if nota > 6:\n",
        "  print('Aluno aprovado')\n",
        "elif 6.0 > nota >= 4.0:\n",
        "  print('Aluno de Recuperação')\n",
        "else:\n",
        "  print('Aluno reprovado')"
      ],
      "metadata": {
        "colab": {
          "base_uri": "https://localhost:8080/"
        },
        "id": "86HxzK5nTViJ",
        "outputId": "b89fe7ce-43a8-445f-e8bf-f6fe4058f68a"
      },
      "execution_count": 15,
      "outputs": [
        {
          "output_type": "stream",
          "name": "stdout",
          "text": [
            "Entre com a nota do Aluno:5\n",
            "Aluno de Recuperação\n"
          ]
        }
      ]
    },
    {
      "cell_type": "code",
      "source": [
        "nome_aluno = 'Fabricio Daniel'\n",
        "idade_aluno = 15\n",
        "media_aluno = 8.45\n",
        "\n",
        "print('Nome do aluno é %s, ele tem %d anos e sua média é %f.' %(nome_aluno, idade_aluno, media_aluno))"
      ],
      "metadata": {
        "colab": {
          "base_uri": "https://localhost:8080/"
        },
        "id": "V5P18GGZoDbL",
        "outputId": "ec0f70ae-1839-4234-8723-a6e5d710f5a2"
      },
      "execution_count": 37,
      "outputs": [
        {
          "output_type": "stream",
          "name": "stdout",
          "text": [
            "Nome do aluno é Fabricio Daniel, ele tem 15 anos e sua média é 8.450000.\n"
          ]
        }
      ]
    }
  ]
}